{
  "nbformat": 4,
  "nbformat_minor": 0,
  "metadata": {
    "colab": {
      "provenance": []
    },
    "kernelspec": {
      "name": "python3",
      "display_name": "Python 3"
    },
    "language_info": {
      "name": "python"
    }
  },
  "cells": [
    {
      "cell_type": "code",
      "execution_count": 86,
      "metadata": {
        "id": "MBG49oTz2SSh"
      },
      "outputs": [],
      "source": [
        "import pandas as pd\n",
        "import numpy as np\n",
        "import random\n",
        "import matplotlib.pyplot as plt\n",
        "from sklearn.svm import SVC\n",
        "from sklearn.linear_model import LogisticRegression\n",
        "from sklearn.tree import DecisionTreeClassifier\n",
        "from sklearn.ensemble import RandomForestClassifier\n",
        "from sklearn.metrics import accuracy_score\n",
        "from keras.utils import to_categorical\n",
        "from keras.models import Sequential\n",
        "from keras.layers import Dense,Flatten,Dropout,Conv2D,MaxPooling2D"
      ]
    },
    {
      "cell_type": "code",
      "source": [
        "train = pd.read_csv(\"sign_mnist_train.csv\")\n",
        "test = pd.read_csv(\"sign_mnist_test.csv\")"
      ],
      "metadata": {
        "id": "Im8bisl2-Q2x"
      },
      "execution_count": 87,
      "outputs": []
    },
    {
      "cell_type": "code",
      "source": [
        "train_data = np.array(train, dtype = 'float32')\n",
        "test_data = np.array(test, dtype = 'float32')"
      ],
      "metadata": {
        "id": "bR5exeFwBezo"
      },
      "execution_count": 88,
      "outputs": []
    },
    {
      "cell_type": "code",
      "source": [
        "class_names = ['A', 'B', 'C', 'D', 'E', 'F', 'G', 'H', 'I', 'J', 'K', 'L', 'M', 'N',\n",
        "               'O', 'P', 'Q', 'R', 'S', 'T', 'U', 'V', 'W', 'X', 'Y']"
      ],
      "metadata": {
        "id": "-2yBinm2Epco"
      },
      "execution_count": 89,
      "outputs": []
    },
    {
      "cell_type": "code",
      "source": [
        "i = random.randint(1,train.shape[0])\n",
        "fig1, ax1 = plt.subplots(figsize=(3,3))\n",
        "plt.imshow(train_data[i,1:].reshape(28,28),cmap='gray')\n",
        "print(f\"Label for this image is {class_names[int(train_data[i,0])]}\")"
      ],
      "metadata": {
        "colab": {
          "base_uri": "https://localhost:8080/",
          "height": 310
        },
        "id": "Pg4nBgikGBrR",
        "outputId": "f0c603b7-f79a-4bf7-87ce-c0a790404a1b"
      },
      "execution_count": 91,
      "outputs": [
        {
          "output_type": "stream",
          "name": "stdout",
          "text": [
            "Label for this image is T\n"
          ]
        },
        {
          "output_type": "display_data",
          "data": {
            "text/plain": [
              "<Figure size 300x300 with 1 Axes>"
            ],
            "image/png": "[encoded data removed]"
          },
          "metadata": {}
        }
      ]
    },
    {
      "cell_type": "code",
      "source": [
        "fig = plt.figure(figsize=(18,10))\n",
        "ax1 = fig.add_subplot(221)\n",
        "train['label'].value_counts().plot(kind='bar', ax=ax1)\n",
        "ax1.set_ylabel('count')\n",
        "ax1.set_title('label')"
      ],
      "metadata": {
        "colab": {
          "base_uri": "https://localhost:8080/",
          "height": 453
        },
        "id": "5f75hrf4JWu-",
        "outputId": "19cfd573-ed42-4442-9dc0-fb687a5a5068"
      },
      "execution_count": 92,
      "outputs": [
        {
          "output_type": "execute_result",
          "data": {
            "text/plain": [
              "Text(0.5, 1.0, 'label')"
            ]
          },
          "metadata": {},
          "execution_count": 92
        },
        {
          "output_type": "display_data",
          "data": {
            "text/plain": [
              "<Figure size 1800x1000 with 1 Axes>"
            ],
            "image/png": "[encoded data removed]"
          },
          "metadata": {}
        }
      ]
    },
    {
      "cell_type": "code",
      "source": [
        "x_train = train_data[:,1:]/255\n",
        "x_test = test_data[:,1:]/255\n",
        "y_train = train_data[:,0]\n",
        "y_test = test_data[:,0]"
      ],
      "metadata": {
        "id": "gV9O6SOLByfl"
      },
      "execution_count": 93,
      "outputs": []
    },
    {
      "cell_type": "markdown",
      "source": [
        "## Machine Learning Models"
      ],
      "metadata": {
        "id": "2efzJBHRuhcB"
      }
    },
    {
      "cell_type": "code",
      "source": [
        "model1 = LogisticRegression().fit(x_train, y_train)\n",
        "model2 = RandomForestClassifier().fit(x_train, y_train)\n",
        "model3 = DecisionTreeClassifier().fit(x_train, y_train)\n",
        "model4 = SVC().fit(x_train, y_train)"
      ],
      "metadata": {
        "id": "vTZMoSFAurhP",
        "outputId": "fcb7149d-7954-4f82-f4b4-b189614e520c",
        "colab": {
          "base_uri": "https://localhost:8080/"
        }
      },
      "execution_count": 94,
      "outputs": [
        {
          "output_type": "stream",
          "name": "stderr",
          "text": [
            "/usr/local/lib/python3.10/dist-packages/sklearn/linear_model/_logistic.py:458: ConvergenceWarning: lbfgs failed to converge (status=1):\n",
            "STOP: TOTAL NO. of ITERATIONS REACHED LIMIT.\n",
            "\n",
            "Increase the number of iterations (max_iter) or scale the data as shown in:\n",
            "    https://scikit-learn.org/stable/modules/preprocessing.html\n",
            "Please also refer to the documentation for alternative solver options:\n",
            "    https://scikit-learn.org/stable/modules/linear_model.html#logistic-regression\n",
            "  n_iter_i = _check_optimize_result(\n"
          ]
        }
      ]
    },
    {
      "cell_type": "code",
      "source": [
        "print(f'Logistic Regression Accuracy: {model1.score(x_test, y_test)*100}')\n",
        "print(f'Random Forest Classifier Accuracy: {model2.score(x_test, y_test)*100}')\n",
        "print(f'Decision Tree Classifier Accuracy: {model3.score(x_test, y_test)*100}')\n",
        "print(f'SVM Accuracy: {model4.score(x_test, y_test)*100}')"
      ],
      "metadata": {
        "id": "cip98ib9urdg",
        "outputId": "a4dd004c-85fb-4043-89db-73e7e16e26b9",
        "colab": {
          "base_uri": "https://localhost:8080/"
        }
      },
      "execution_count": 95,
      "outputs": [
        {
          "output_type": "stream",
          "name": "stdout",
          "text": [
            "Logistic Regression Accuracy: 67.40100390407139\n",
            "Random Forest Classifier Accuracy: 80.89793641940881\n",
            "Decision Tree Classifier Accuracy: 43.432794199665366\n",
            "SVM Accuracy: 84.17456776352482\n"
          ]
        }
      ]
    },
    {
      "cell_type": "markdown",
      "source": [
        "## Neural Network"
      ],
      "metadata": {
        "id": "dH0uz2QaEht9"
      }
    },
    {
      "cell_type": "code",
      "source": [
        "y_train = to_categorical(y_train, num_classes=25)\n",
        "y_test = to_categorical(y_test, num_classes=25)"
      ],
      "metadata": {
        "id": "m24CtoiTCShq"
      },
      "execution_count": 96,
      "outputs": []
    },
    {
      "cell_type": "code",
      "source": [
        "x_train = x_train.reshape(-1,28,28,1)\n",
        "x_test = x_test.reshape(-1,28,28,1)"
      ],
      "metadata": {
        "id": "IqVPOU3uRFPe"
      },
      "execution_count": 97,
      "outputs": []
    },
    {
      "cell_type": "code",
      "source": [
        "print(x_train.shape, y_train.shape, x_test.shape, y_test.shape)"
      ],
      "metadata": {
        "id": "WbJsig-kkJjz",
        "outputId": "0cb73b46-e2eb-489a-834b-fd23b2e1d900",
        "colab": {
          "base_uri": "https://localhost:8080/"
        }
      },
      "execution_count": 98,
      "outputs": [
        {
          "output_type": "stream",
          "name": "stdout",
          "text": [
            "(27455, 28, 28, 1) (27455, 25) (7172, 28, 28, 1) (7172, 25)\n"
          ]
        }
      ]
    },
    {
      "cell_type": "code",
      "source": [
        "seq_model = Sequential()\n",
        "seq_model.add(Conv2D(32, (2,2), input_shape=(28,28,1), activation='relu'))\n",
        "seq_model.add(MaxPooling2D(pool_size=(2,2)))\n",
        "seq_model.add(Dropout(0.2))\n",
        "\n",
        "seq_model.add(Conv2D(64, (2,2), activation='relu'))\n",
        "seq_model.add(MaxPooling2D(pool_size=(2,2)))\n",
        "seq_model.add(Dropout(0.2))\n",
        "\n",
        "seq_model.add(Conv2D(128, (5,5), activation='relu'))\n",
        "seq_model.add(MaxPooling2D(pool_size=(2,2)))\n",
        "seq_model.add(Dropout(0.25))\n",
        "\n",
        "seq_model.add(Flatten())\n",
        "seq_model.add(Dense(512,activation='relu'))\n",
        "seq_model.add(Dense(25, activation='softmax'))"
      ],
      "metadata": {
        "id": "hfTHTBusM-uG"
      },
      "execution_count": 99,
      "outputs": []
    },
    {
      "cell_type": "code",
      "source": [
        "seq_model.compile(loss='categorical_crossentropy', optimizer='adam', metrics=['acc'])\n",
        "seq_model.summary()"
      ],
      "metadata": {
        "colab": {
          "base_uri": "https://localhost:8080/"
        },
        "id": "ULvobMh2T2eh",
        "outputId": "450d802f-e87b-4cc9-fd8b-4735a6a7eff3"
      },
      "execution_count": 100,
      "outputs": [
        {
          "output_type": "stream",
          "name": "stdout",
          "text": [
            "Model: \"sequential_5\"\n",
            "_________________________________________________________________\n",
            " Layer (type)                Output Shape              Param #   \n",
            "=================================================================\n",
            " conv2d_15 (Conv2D)          (None, 27, 27, 32)        160       \n",
            "                                                                 \n",
            " max_pooling2d_15 (MaxPoolin  (None, 13, 13, 32)       0         \n",
            " g2D)                                                            \n",
            "                                                                 \n",
            " dropout_15 (Dropout)        (None, 13, 13, 32)        0         \n",
            "                                                                 \n",
            " conv2d_16 (Conv2D)          (None, 12, 12, 64)        8256      \n",
            "                                                                 \n",
            " max_pooling2d_16 (MaxPoolin  (None, 6, 6, 64)         0         \n",
            " g2D)                                                            \n",
            "                                                                 \n",
            " dropout_16 (Dropout)        (None, 6, 6, 64)          0         \n",
            "                                                                 \n",
            " conv2d_17 (Conv2D)          (None, 2, 2, 128)         204928    \n",
            "                                                                 \n",
            " max_pooling2d_17 (MaxPoolin  (None, 1, 1, 128)        0         \n",
            " g2D)                                                            \n",
            "                                                                 \n",
            " dropout_17 (Dropout)        (None, 1, 1, 128)         0         \n",
            "                                                                 \n",
            " flatten_5 (Flatten)         (None, 128)               0         \n",
            "                                                                 \n",
            " dense_10 (Dense)            (None, 512)               66048     \n",
            "                                                                 \n",
            " dense_11 (Dense)            (None, 25)                12825     \n",
            "                                                                 \n",
            "=================================================================\n",
            "Total params: 292,217\n",
            "Trainable params: 292,217\n",
            "Non-trainable params: 0\n",
            "_________________________________________________________________\n"
          ]
        }
      ]
    },
    {
      "cell_type": "code",
      "source": [
        "results = seq_model.fit(x_train, y_train,batch_size=128,epochs=27,verbose=1,validation_data=(x_test,y_test),shuffle=1)"
      ],
      "metadata": {
        "colab": {
          "base_uri": "https://localhost:8080/"
        },
        "id": "LII2lGSRVXcm",
        "outputId": "078ba4af-c585-47fd-9c14-5e0368dc0e15"
      },
      "execution_count": 101,
      "outputs": [
        {
          "metadata": {
            "tags": null
          },
          "name": "stdout",
          "output_type": "stream",
          "text": [
            "Epoch 1/27\n",
            "215/215 [==============================] - 39s 178ms/step - loss: 2.2797 - acc: 0.2924 - val_loss: 0.9146 - val_acc: 0.6980\n",
            "Epoch 2/27\n",
            "215/215 [==============================] - 40s 186ms/step - loss: 0.6521 - acc: 0.7759 - val_loss: 0.3697 - val_acc: 0.8740\n",
            "Epoch 3/27\n",
            "215/215 [==============================] - 39s 183ms/step - loss: 0.3164 - acc: 0.8929 - val_loss: 0.2286 - val_acc: 0.9335\n",
            "Epoch 4/27\n",
            "215/215 [==============================] - 38s 177ms/step - loss: 0.1929 - acc: 0.9347 - val_loss: 0.1622 - val_acc: 0.9419\n",
            "Epoch 5/27\n",
            "215/215 [==============================] - 38s 178ms/step - loss: 0.1411 - acc: 0.9537 - val_loss: 0.1082 - val_acc: 0.9664\n",
            "Epoch 6/27\n",
            "215/215 [==============================] - 37s 173ms/step - loss: 0.1041 - acc: 0.9660 - val_loss: 0.0828 - val_acc: 0.9730\n",
            "Epoch 7/27\n",
            "215/215 [==============================] - 38s 175ms/step - loss: 0.0830 - acc: 0.9737 - val_loss: 0.0753 - val_acc: 0.9801\n",
            "Epoch 8/27\n",
            "215/215 [==============================] - 37s 171ms/step - loss: 0.0667 - acc: 0.9793 - val_loss: 0.0861 - val_acc: 0.9728\n",
            "Epoch 9/27\n",
            "215/215 [==============================] - 37s 170ms/step - loss: 0.0639 - acc: 0.9788 - val_loss: 0.0681 - val_acc: 0.9792\n",
            "Epoch 10/27\n",
            "215/215 [==============================] - 35s 162ms/step - loss: 0.0503 - acc: 0.9833 - val_loss: 0.0647 - val_acc: 0.9828\n",
            "Epoch 11/27\n",
            "215/215 [==============================] - 37s 172ms/step - loss: 0.0493 - acc: 0.9847 - val_loss: 0.0666 - val_acc: 0.9763\n",
            "Epoch 12/27\n",
            "215/215 [==============================] - 36s 168ms/step - loss: 0.0456 - acc: 0.9849 - val_loss: 0.0598 - val_acc: 0.9817\n",
            "Epoch 13/27\n",
            "215/215 [==============================] - 37s 171ms/step - loss: 0.0392 - acc: 0.9866 - val_loss: 0.0478 - val_acc: 0.9865\n",
            "Epoch 14/27\n",
            "215/215 [==============================] - 36s 170ms/step - loss: 0.0358 - acc: 0.9887 - val_loss: 0.0455 - val_acc: 0.9883\n",
            "Epoch 15/27\n",
            "215/215 [==============================] - 36s 168ms/step - loss: 0.0377 - acc: 0.9877 - val_loss: 0.0898 - val_acc: 0.9671\n",
            "Epoch 16/27\n",
            "215/215 [==============================] - 36s 167ms/step - loss: 0.0286 - acc: 0.9911 - val_loss: 0.0422 - val_acc: 0.9877\n",
            "Epoch 17/27\n",
            "215/215 [==============================] - 36s 166ms/step - loss: 0.0283 - acc: 0.9909 - val_loss: 0.0568 - val_acc: 0.9875\n",
            "Epoch 18/27\n",
            "215/215 [==============================] - 37s 171ms/step - loss: 0.0300 - acc: 0.9902 - val_loss: 0.0400 - val_acc: 0.9890\n",
            "Epoch 19/27\n",
            "215/215 [==============================] - 36s 167ms/step - loss: 0.0281 - acc: 0.9911 - val_loss: 0.0768 - val_acc: 0.9842\n",
            "Epoch 20/27\n",
            "215/215 [==============================] - 37s 172ms/step - loss: 0.0298 - acc: 0.9904 - val_loss: 0.0806 - val_acc: 0.9742\n",
            "Epoch 21/27\n",
            "215/215 [==============================] - 37s 171ms/step - loss: 0.0246 - acc: 0.9916 - val_loss: 0.0628 - val_acc: 0.9842\n",
            "Epoch 22/27\n",
            "215/215 [==============================] - 37s 170ms/step - loss: 0.0252 - acc: 0.9915 - val_loss: 0.0873 - val_acc: 0.9686\n",
            "Epoch 23/27\n",
            "215/215 [==============================] - 35s 164ms/step - loss: 0.0237 - acc: 0.9924 - val_loss: 0.0582 - val_acc: 0.9770\n",
            "Epoch 24/27\n",
            "215/215 [==============================] - 40s 186ms/step - loss: 0.0258 - acc: 0.9907 - val_loss: 0.0666 - val_acc: 0.9787\n",
            "Epoch 25/27\n",
            "215/215 [==============================] - 37s 173ms/step - loss: 0.0240 - acc: 0.9917 - val_loss: 0.0370 - val_acc: 0.9908\n",
            "Epoch 26/27\n",
            "215/215 [==============================] - 35s 163ms/step - loss: 0.0200 - acc: 0.9928 - val_loss: 0.0481 - val_acc: 0.9844\n",
            "Epoch 27/27\n",
            "215/215 [==============================] - 36s 166ms/step - loss: 0.0229 - acc: 0.9924 - val_loss: 0.0557 - val_acc: 0.9823\n"
          ]
        }
      ]
    },
    {
      "cell_type": "code",
      "source": [
        "loss,accuracy = seq_model.evaluate(x=x_test,y=y_test)"
      ],
      "metadata": {
        "id": "v3CmcNj-lFcI",
        "outputId": "ea387a29-f704-4ea9-abca-9e032fc7692b",
        "colab": {
          "base_uri": "https://localhost:8080/"
        }
      },
      "execution_count": 102,
      "outputs": [
        {
          "output_type": "stream",
          "name": "stdout",
          "text": [
            "225/225 [==============================] - 3s 12ms/step - loss: 0.0557 - acc: 0.9823\n"
          ]
        }
      ]
    },
    {
      "cell_type": "code",
      "source": [
        "print(f\"Test Accuracy = {accuracy*100}\")"
      ],
      "metadata": {
        "id": "X3tbuSdW5oQ4",
        "colab": {
          "base_uri": "https://localhost:8080/"
        },
        "outputId": "333ea232-9fc8-4c19-c259-f3eb3a718fb9"
      },
      "execution_count": 103,
      "outputs": [
        {
          "output_type": "stream",
          "name": "stdout",
          "text": [
            "Test Accuracy = 98.22922348976135\n"
          ]
        }
      ]
    }
  ]
}